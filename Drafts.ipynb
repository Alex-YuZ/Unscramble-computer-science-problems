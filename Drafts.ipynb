{
 "cells": [
  {
   "cell_type": "code",
   "execution_count": 2,
   "metadata": {},
   "outputs": [],
   "source": [
    "import os\n",
    "path = \"/Users/alejandrosanz/Downloads/Udacity/DataStructureAlgorithm/projects/P1/\"\n",
    "os.chdir(path)"
   ]
  },
  {
   "cell_type": "code",
   "execution_count": 4,
   "metadata": {},
   "outputs": [
    {
     "name": "stdout",
     "output_type": "stream",
     "text": [
      "Task0.py   Task1.py   Task2.py   Task3.py   Task4.py   calls.csv  texts.csv\r\n"
     ]
    }
   ],
   "source": [
    "ls"
   ]
  },
  {
   "cell_type": "code",
   "execution_count": 6,
   "metadata": {},
   "outputs": [
    {
     "data": {
      "text/plain": [
       "<_csv.reader at 0x7f943ecaf250>"
      ]
     },
     "execution_count": 6,
     "metadata": {},
     "output_type": "execute_result"
    }
   ],
   "source": [
    "\"\"\"\n",
    "Read file into texts and calls.\n",
    "It's ok if you don't understand how to read files.\n",
    "\"\"\"\n",
    "import csv\n",
    "with open('texts.csv', 'r') as f:\n",
    "    reader = csv.reader(f)\n",
    "    texts = list(reader)\n",
    "\n",
    "with open('calls.csv', 'r') as f:\n",
    "    reader = csv.reader(f)\n",
    "    calls = list(reader)\n"
   ]
  },
  {
   "cell_type": "code",
   "execution_count": 10,
   "metadata": {
    "collapsed": true
   },
   "outputs": [
    {
     "data": {
      "text/plain": [
       "[['97424 22395', '90365 06212', '01-09-2016 06:03:22'],\n",
       " ['94489 72078', '92415 91418', '01-09-2016 06:05:35'],\n",
       " ['81520 43406', '92421 64236', '01-09-2016 06:09:34'],\n",
       " ['97389 12538', '90352 50054', '01-09-2016 06:09:39'],\n",
       " ['81515 42171', '98440 02823', '01-09-2016 06:13:30'],\n",
       " ['78132 18081', '77956 90632', '01-09-2016 06:19:37'],\n",
       " ['90352 50054', '97389 12538', '01-09-2016 06:30:42'],\n",
       " ['90359 99240', '94491 55790', '01-09-2016 06:32:59'],\n",
       " ['78295 65598', '84313 45689', '01-09-2016 06:34:46'],\n",
       " ['93412 66159', '98454 07778', '01-09-2016 06:36:15']]"
      ]
     },
     "execution_count": 10,
     "metadata": {},
     "output_type": "execute_result"
    }
   ],
   "source": [
    "texts[:10]"
   ]
  },
  {
   "cell_type": "code",
   "execution_count": 102,
   "metadata": {
    "collapsed": true
   },
   "outputs": [
    {
     "data": {
      "text/plain": [
       "[['78130 00821', '98453 94494', '01-09-2016 06:01:12', '186'],\n",
       " ['78298 91466', '(022)28952819', '01-09-2016 06:01:59', '2093'],\n",
       " ['97424 22395', '(022)47410783', '01-09-2016 06:03:51', '1975'],\n",
       " ['93427 40118', '(080)33118033', '01-09-2016 06:11:23', '1156'],\n",
       " ['90087 42537', '(080)35121497', '01-09-2016 06:17:26', '573'],\n",
       " ['97427 87999', '(04344)322628', '01-09-2016 06:19:28', '2751'],\n",
       " ['(080)45291968', '90365 06212', '01-09-2016 06:30:36', '9'],\n",
       " ['78132 18081', '77956 90632', '01-09-2016 06:39:03', '3043'],\n",
       " ['98453 46196', '94005 06213', '01-09-2016 06:40:20', '2457'],\n",
       " ['78290 99865', '89071 31755', '01-09-2016 06:46:56', '9']]"
      ]
     },
     "execution_count": 102,
     "metadata": {},
     "output_type": "execute_result"
    }
   ],
   "source": [
    "calls_tmp = calls[:10]\n",
    "calls_tmp"
   ]
  },
  {
   "cell_type": "code",
   "execution_count": 16,
   "metadata": {},
   "outputs": [
    {
     "data": {
      "text/plain": [
       "(9072, 5213)"
      ]
     },
     "execution_count": 16,
     "metadata": {},
     "output_type": "execute_result"
    }
   ],
   "source": [
    "call_dict = dict()\n",
    "for i in range(len(call_tmp)):\n",
    "    if call_dict[i]"
   ]
  },
  {
   "cell_type": "code",
   "execution_count": 221,
   "metadata": {},
   "outputs": [
    {
     "name": "stdout",
     "output_type": "stream",
     "text": [
      "First record of texts, 97424 22395 texts 90365 06212 at time 01-09-2016 06:03:22\n",
      "Last record of calls, 98447 62998 calls (080)46304537 at time 30-09-2016 23:57:15, lasting 2151 seconds\n"
     ]
    }
   ],
   "source": [
    "\"\"\"\n",
    "TASK 0:\n",
    "What is the first record of texts and what is the last record of calls?\n",
    "Print messages:\n",
    "\"First record of texts, <incoming number> texts <answering number> at time <time>\"\n",
    "\"Last record of calls, <incoming number> calls <answering number> at time <time>, lasting <during> seconds\"\n",
    "\"\"\"\n",
    "first_text = texts[0]\n",
    "last_call = calls[-1]\n",
    "\n",
    "text_str = \"First record of texts, {0} texts {1} at time {2}\".format(first_text[0], first_text[1], first_text[2])\n",
    "call_str = \"Last record of calls, {0} calls {1} at time {2}, lasting {3} seconds\"\\\n",
    ".format(last_call[0], last_call[1], last_call[2], last_call[3])\n",
    "\n",
    "print(text_str)\n",
    "print(call_str)"
   ]
  },
  {
   "cell_type": "code",
   "execution_count": 226,
   "metadata": {},
   "outputs": [
    {
     "name": "stdout",
     "output_type": "stream",
     "text": [
      "There are 570 different telephone numbers in the records.\n"
     ]
    }
   ],
   "source": [
    "\"\"\"\n",
    "TASK 1:\n",
    "How many different telephone numbers are there in the records? \n",
    "Print a message:\n",
    "\"There are <count> different telephone numbers in the records.\"\n",
    "\"\"\"\n",
    "\n",
    "\n",
    "def col_list(idx, data):\n",
    "    val_list = [item[idx] for item in data]\n",
    "    return val_list\n",
    "    \n",
    "\n",
    "# get the unique values in sending numbers column in the texts\n",
    "send_texts_uniq = set(col_list(0, texts))\n",
    "\n",
    "# get the unique values in receiving numbers column in the texts\n",
    "receive_texts_uniq = set(col_list(1, texts))\n",
    "\n",
    "# get the unique values in calling numbers column in the calls\n",
    "send_calls_uniq = set(col_list(0, calls))\n",
    "# get the unique values in receiving numbers column in the calls\n",
    "receive_calls_uniq = set(col_list(1, calls))\n",
    "\n",
    "# get the unique values in all four columns above\n",
    "uniq_nums = send_texts_uniq | receiv_texts_uniq | send_calls_uniq | receive_calls_uniq\n",
    "# calculate the length of these unique values\n",
    "uniq_length = len(uniq_nums)\n",
    "\n",
    "# formatted string\n",
    "uniq_fs = \"There are {} different telephone numbers in the records.\".format(uniq_length)\n",
    "\n",
    "print(uniq_fs)"
   ]
  },
  {
   "cell_type": "code",
   "execution_count": 131,
   "metadata": {},
   "outputs": [
    {
     "name": "stdout",
     "output_type": "stream",
     "text": [
      "(080)33251027 spent the longest time, 90456 seconds, on the phone during September 2016.\n"
     ]
    }
   ],
   "source": [
    "\"\"\"\n",
    "TASK 2: Which telephone number spent the longest time on the phone\n",
    "during the period? Don't forget that time spent answering a call is\n",
    "also time spent on the phone.\n",
    "Print a message:\n",
    "\"<telephone number> spent the longest time, <total time> seconds, on the phone during \n",
    "September 2016.\".\n",
    "\"\"\"\n",
    "# Extract the calling, receiving number and their corresponding duration time from calls dataset \\\n",
    "# and transform into a list\n",
    "call_lists = list(zip(col_list(0, calls), map(int, col_list(3, calls)))) \\\n",
    "            + list(zip(col_list(1, calls), map(int, col_list(3, calls))))\n",
    "\n",
    "call_dict = {}\n",
    "for i, j in call_lists:\n",
    "    if not call_dict.get(i):\n",
    "        call_dict[i] = j\n",
    "    else:\n",
    "        call_dict[i] += j\n",
    "        \n",
    "# print(call_dict)\n",
    "\n",
    "max_key = None\n",
    "max_duration = 0\n",
    "\n",
    "for key, val in call_dict.items():\n",
    "    if val > max_duration:\n",
    "        max_duration = val\n",
    "        max_key = key\n",
    "        \n",
    "max_duration_sf = \"{0} spent the longest time, {1} seconds, on the phone during September 2016.\".format(max_key, \\\n",
    "                                                                                                        max_duration)\n",
    "print(max_duration_sf)"
   ]
  },
  {
   "cell_type": "code",
   "execution_count": null,
   "metadata": {},
   "outputs": [],
   "source": [
    "\"\"\"\n",
    "TASK 3:\n",
    "(080) is the area code for fixed line telephones in Bangalore.\n",
    "Fixed line numbers include parentheses, so Bangalore numbers\n",
    "have the form (080)xxxxxxx.)\n",
    "\n",
    "Part A: Find all of the area codes and mobile prefixes called by people\n",
    "in Bangalore.\n",
    " - Fixed lines start with an area code enclosed in brackets. The area\n",
    "   codes vary in length but always begin with 0.\n",
    " - Mobile numbers have no parentheses, but have a space in the middle\n",
    "   of the number to help readability. The prefix of a mobile number\n",
    "   is its first four digits, and they always start with 7, 8 or 9.\n",
    " - Telemarketers' numbers have no parentheses or space, but they start\n",
    "   with the area code 140.\n",
    "\n",
    "Print the answer as part of a message:\n",
    "\"The numbers called by people in Bangalore have codes:\"\n",
    " <list of codes>\n",
    "The list of codes should be print out one per line in lexicographic order with no duplicates.\n",
    "\n",
    "Part B: What percentage of calls from fixed lines in Bangalore are made\n",
    "to fixed lines also in Bangalore? In other words, of all the calls made\n",
    "from a number starting with \"(080)\", what percentage of these calls\n",
    "were made to a number also starting with \"(080)\"?\n",
    "\n",
    "Print the answer as a part of a message::\n",
    "\"<percentage> percent of calls from fixed lines in Bangalore are calls\n",
    "to other fixed lines in Bangalore.\"\n",
    "The percentage should have 2 decimal digits\n",
    "\"\"\"\n",
    "\n"
   ]
  },
  {
   "cell_type": "code",
   "execution_count": 216,
   "metadata": {},
   "outputs": [
    {
     "name": "stdout",
     "output_type": "stream",
     "text": [
      "The numbers called by people in Bangalore have codes: \n",
      "(022)\n",
      "(040)\n",
      "(04344)\n",
      "(044)\n",
      "(04546)\n",
      "(0471)\n",
      "(080)\n",
      "(0821)\n",
      "7406\n",
      "7795\n",
      "7813\n",
      "7829\n",
      "8151\n",
      "8152\n",
      "8301\n",
      "8431\n",
      "8714\n",
      "9008\n",
      "9019\n",
      "9035\n",
      "9036\n",
      "9241\n",
      "9242\n",
      "9341\n",
      "9342\n",
      "9343\n",
      "9400\n",
      "9448\n",
      "9449\n",
      "9526\n",
      "9656\n",
      "9738\n",
      "9740\n",
      "9741\n",
      "9742\n",
      "9844\n",
      "9845\n",
      "9900\n",
      "9961\n",
      "24.81 percent of calls from fixed lines in Bangalore are calls to other fixed lines in Bangalore.\n"
     ]
    }
   ],
   "source": [
    "# PART A.\n",
    "def call_dict(data):\n",
    "    \"\"\"\n",
    "    Generate a dictionay with sending call as the key and a list of receiving calls as values \n",
    "    \n",
    "    Paramaters:\n",
    "    -----------\n",
    "    data: a two_dimensional list\n",
    "    \n",
    "    Returns:\n",
    "    --------\n",
    "    dict. Transform certain cols into a dictionary object.\n",
    "    \n",
    "    \n",
    "    \"\"\"\n",
    "    result = dict()\n",
    "    for item in calls:\n",
    "        if not result.get(item[0]):\n",
    "            result[item[0]] = []\n",
    "            result[item[0]].append(item[1])\n",
    "            \n",
    "        else:\n",
    "            result[item[0]].append(item[1])\n",
    "            \n",
    "    return result\n",
    "\n",
    "def starts_with(prefix, data_dict):\n",
    "    \"\"\"\n",
    "    Generate a list of receiving calls from a given prefix of sending calls.\n",
    "    \n",
    "    Paramaters:\n",
    "    -----------\n",
    "        prefix: str. A given prefix string to match with.\n",
    "        data_dict: dict. A dictionaty containing sending call as the key and receiving call lists as values.\n",
    "    \n",
    "    Returns:\n",
    "    --------\n",
    "        list. Receiving call lists with a match.\n",
    "    \n",
    "    \"\"\"\n",
    "    result = []\n",
    "    for key, val in data_dict.items():\n",
    "        if key.startswith(prefix):\n",
    "            result += data_dict[key]\n",
    "        \n",
    "    return result\n",
    "            \n",
    "\n",
    "data_dict = call_dict(calls)\n",
    "\n",
    "uniq_vals = set(starts_with('(080)', data_dict))\n",
    "\n",
    "res = set()\n",
    "for i in uniq_vals:\n",
    "    if i.startswith('('):\n",
    "        ends_loc = i.find(')')\n",
    "        res.add(i[: ends_loc+1])\n",
    "    elif i.startswith(('7', '8', '9')):\n",
    "        res.add(i[:4])\n",
    "        \n",
    "codes_fs = \"The numbers called by people in Bangalore have codes: \\n{}\".format('\\n'.join(sorted(list(res))))\n",
    "print(codes_fs)\n",
    "\n",
    "\n",
    "# PART B.\n",
    "\n",
    "count = 0\n",
    "\n",
    "for answer in starts_with('(080)', data_dict):\n",
    "    if answer.startswith('(080)'):\n",
    "        count += 1\n",
    "\n",
    "total_calls = len(starts_with('(080)', data_dict))\n",
    "count_pct = round(count/total_calls * 100, 2)\n",
    "\n",
    "pct_fs = \"{} percent of calls from fixed lines in Bangalore are calls to other \\\n",
    "fixed lines in Bangalore.\".format(count_pct)\n",
    "\n",
    "print(pct_fs)"
   ]
  },
  {
   "cell_type": "code",
   "execution_count": 220,
   "metadata": {},
   "outputs": [
    {
     "data": {
      "text/plain": [
       "'\\nTASK 4:\\nThe telephone company want to identify numbers that might be doing\\ntelephone marketing. Create a set of possible telemarketers:\\nthese are numbers that make outgoing calls but never send texts,\\nreceive texts or receive incoming calls.\\n\\nPrint a message:\\n\"These numbers could be telemarketers: \"\\n<list of numbers>\\nThe list of numbers should be print out one per line in lexicographic order with no duplicates.\\n'"
      ]
     },
     "execution_count": 220,
     "metadata": {},
     "output_type": "execute_result"
    }
   ],
   "source": [
    "\"\"\"\n",
    "TASK 4:\n",
    "The telephone company want to identify numbers that might be doing\n",
    "telephone marketing. Create a set of possible telemarketers:\n",
    "these are numbers that make outgoing calls but never send texts,\n",
    "receive texts or receive incoming calls.\n",
    "\n",
    "Print a message:\n",
    "\"These numbers could be telemarketers: \"\n",
    "<list of numbers>\n",
    "The list of numbers should be print out one per line in lexicographic order with no duplicates.\n",
    "\"\"\""
   ]
  },
  {
   "cell_type": "code",
   "execution_count": 227,
   "metadata": {},
   "outputs": [
    {
     "name": "stdout",
     "output_type": "stream",
     "text": [
      "These numbers could be telemarketers: \n",
      "(022)37572285\n",
      "(022)65548497\n",
      "(022)68535788\n",
      "(022)69042431\n",
      "(040)30429041\n",
      "(044)22020822\n",
      "(0471)2171438\n",
      "(0471)6579079\n",
      "(080)20383942\n",
      "(080)25820765\n",
      "(080)31606520\n",
      "(080)40362016\n",
      "(080)60463379\n",
      "(080)60998034\n",
      "(080)62963633\n",
      "(080)64015211\n",
      "(080)69887826\n",
      "(0821)3257740\n",
      "1400481538\n",
      "1401747654\n",
      "1402316533\n",
      "1403072432\n",
      "1403579926\n",
      "1404073047\n",
      "1404368883\n",
      "1404787681\n",
      "1407539117\n",
      "1408371942\n",
      "1408409918\n",
      "1408672243\n",
      "1409421631\n",
      "1409668775\n",
      "1409994233\n",
      "74064 66270\n",
      "78291 94593\n",
      "87144 55014\n",
      "90351 90193\n",
      "92414 69419\n",
      "94495 03761\n",
      "97404 30456\n",
      "97407 84573\n",
      "97442 45192\n",
      "99617 25274\n"
     ]
    }
   ],
   "source": [
    "telemarketers = send_calls_uniq - receive_calls_uniq - send_texts_uniq - receive_texts_uniq\n",
    "\n",
    "telemarketers_fs = \"These numbers could be telemarketers: \\n{}\".format('\\n'.join(sorted(list(telemarketers))))\n",
    "print(telemarketers_fs)"
   ]
  },
  {
   "cell_type": "code",
   "execution_count": null,
   "metadata": {},
   "outputs": [],
   "source": []
  }
 ],
 "metadata": {
  "kernelspec": {
   "display_name": "Python 3",
   "language": "python",
   "name": "python3"
  },
  "language_info": {
   "codemirror_mode": {
    "name": "ipython",
    "version": 3
   },
   "file_extension": ".py",
   "mimetype": "text/x-python",
   "name": "python",
   "nbconvert_exporter": "python",
   "pygments_lexer": "ipython3",
   "version": "3.7.9"
  }
 },
 "nbformat": 4,
 "nbformat_minor": 4
}
